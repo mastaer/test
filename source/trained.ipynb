{
 "cells": [
  {
   "cell_type": "markdown",
   "metadata": {
    "papermill": {
<<<<<<< HEAD
     "duration": 0.019464,
     "end_time": "2020-03-15T12:34:23.887379",
     "exception": false,
     "start_time": "2020-03-15T12:34:23.867915",
=======
     "duration": 0.025844,
     "end_time": "2020-03-15T12:31:13.951037",
     "exception": false,
     "start_time": "2020-03-15T12:31:13.925193",
>>>>>>> e8e57c12b069d335f769e331514c59d27a165489
     "status": "completed"
    },
    "tags": []
   },
   "source": [
    "# Define Imports"
   ]
  },
  {
   "cell_type": "code",
<<<<<<< HEAD
   "execution_count": 1,
   "metadata": {
    "papermill": {
     "duration": 1.550859,
     "end_time": "2020-03-15T12:34:25.454708",
     "exception": false,
     "start_time": "2020-03-15T12:34:23.903849",
=======
   "execution_count": null,
   "metadata": {
    "papermill": {
     "duration": 1.026265,
     "end_time": "2020-03-15T12:31:15.001777",
     "exception": false,
     "start_time": "2020-03-15T12:31:13.975512",
>>>>>>> e8e57c12b069d335f769e331514c59d27a165489
     "status": "completed"
    },
    "tags": []
   },
   "outputs": [],
   "source": [
    "import json\n",
    "import os\n",
    "import tensorflow as tf\n",
    "import numpy as np\n",
    "import h5py\n",
    "from tensorflow.keras.preprocessing.image import ImageDataGenerator\n",
    "from tensorflow.keras.models import Sequential\n",
    "from tensorflow.keras.layers import Dense, Dropout, Activation, Flatten, Conv2D, MaxPooling2D\n",
    "from tensorflow.keras.layers import GlobalAveragePooling2D\n",
    "import argparse"
   ]
  },
  {
   "cell_type": "markdown",
   "metadata": {
    "papermill": {
<<<<<<< HEAD
     "duration": 0.018233,
     "end_time": "2020-03-15T12:34:25.488618",
     "exception": false,
     "start_time": "2020-03-15T12:34:25.470385",
=======
     "duration": null,
     "end_time": null,
     "exception": null,
     "start_time": null,
>>>>>>> e8e57c12b069d335f769e331514c59d27a165489
     "status": "completed"
    },
    "tags": []
   },
   "source": [
    "# Change dir in jupyter notebook"
   ]
  },
  {
   "cell_type": "code",
<<<<<<< HEAD
   "execution_count": 2,
   "metadata": {
    "papermill": {
     "duration": 0.023313,
     "end_time": "2020-03-15T12:34:25.527584",
     "exception": false,
     "start_time": "2020-03-15T12:34:25.504271",
=======
   "execution_count": null,
   "metadata": {
    "papermill": {
     "duration": null,
     "end_time": null,
     "exception": null,
     "start_time": null,
>>>>>>> e8e57c12b069d335f769e331514c59d27a165489
     "status": "completed"
    },
    "tags": []
   },
   "outputs": [],
   "source": [
    "#dvc-cc-hide\n",
    "if os.getcwd().endswith('source'):\n",
    "    os.chdir('..')"
   ]
  },
  {
   "cell_type": "markdown",
   "metadata": {
    "papermill": {
<<<<<<< HEAD
     "duration": 0.014565,
     "end_time": "2020-03-15T12:34:25.556767",
     "exception": false,
     "start_time": "2020-03-15T12:34:25.542202",
=======
     "duration": null,
     "end_time": null,
     "exception": null,
     "start_time": null,
>>>>>>> e8e57c12b069d335f769e331514c59d27a165489
     "status": "completed"
    },
    "tags": []
   },
   "source": [
    "# Define Argparser"
   ]
  },
  {
   "cell_type": "code",
<<<<<<< HEAD
   "execution_count": 3,
   "metadata": {
    "papermill": {
     "duration": 0.127219,
     "end_time": "2020-03-15T12:34:25.698041",
     "exception": false,
     "start_time": "2020-03-15T12:34:25.570822",
=======
   "execution_count": null,
   "metadata": {
    "papermill": {
     "duration": null,
     "end_time": null,
     "exception": null,
     "start_time": null,
>>>>>>> e8e57c12b069d335f769e331514c59d27a165489
     "status": "completed"
    },
    "tags": []
   },
<<<<<<< HEAD
   "outputs": [
    {
     "name": "stdout",
     "output_type": "stream",
     "text": [
      "\n",
      "Tensorflow runs on the GPU:  []\n",
      "\n"
     ]
    }
   ],
=======
   "outputs": [],
>>>>>>> e8e57c12b069d335f769e331514c59d27a165489
   "source": [
    "print()\n",
    "print('Tensorflow runs on the GPU: ', tf.config.list_physical_devices('GPU'))\n",
    "print()\n",
    "parser = argparse.ArgumentParser();"
   ]
  },
  {
   "cell_type": "code",
<<<<<<< HEAD
   "execution_count": 4,
   "metadata": {
    "papermill": {
     "duration": 0.034882,
     "end_time": "2020-03-15T12:34:25.748909",
     "exception": false,
     "start_time": "2020-03-15T12:34:25.714027",
=======
   "execution_count": null,
   "metadata": {
    "papermill": {
     "duration": null,
     "end_time": null,
     "exception": null,
     "start_time": null,
>>>>>>> e8e57c12b069d335f769e331514c59d27a165489
     "status": "completed"
    },
    "tags": []
   },
   "outputs": [],
   "source": [
    "# define the training\n",
    "parser.add_argument('-lr', '--learning-rate', type=float, help='', default=0.0001)\n",
    "parser.add_argument('-b','--batch-size', type=int, help='', default=64)\n",
    "parser.add_argument('--num-of-epochs', type=int, help='', default=1000);"
   ]
  },
  {
   "cell_type": "code",
<<<<<<< HEAD
   "execution_count": 5,
   "metadata": {
    "papermill": {
     "duration": 0.025085,
     "end_time": "2020-03-15T12:34:25.787526",
     "exception": false,
     "start_time": "2020-03-15T12:34:25.762441",
=======
   "execution_count": null,
   "metadata": {
    "papermill": {
     "duration": null,
     "end_time": null,
     "exception": null,
     "start_time": null,
>>>>>>> e8e57c12b069d335f769e331514c59d27a165489
     "status": "completed"
    },
    "tags": []
   },
   "outputs": [],
   "source": [
    "# define the model structure\n",
    "parser.add_argument('--activation-function', type=str, help='', default='relu')\n",
    "parser.add_argument('--kernel-width', type=int, help='', default=3)\n",
    "parser.add_argument('--average-kernels', type=int, help='', default=32)\n",
    "parser.add_argument('--num-of-conv-layers', type=int, help='', default=5)\n",
    "parser.add_argument('--kernel-increasing-factor', type=float, help='', default=1.2)\n",
    "parser.add_argument('--maxpool-after-n-layer', type=int, help='', default=0)\n",
    "parser.add_argument('--dropout-factor-after-conv', type=float, help='', default=0.1)\n",
    "parser.add_argument('--dropout-factor-after-maxp', type=float, help='', default=0.25);"
   ]
  },
  {
   "cell_type": "code",
<<<<<<< HEAD
   "execution_count": 6,
   "metadata": {
    "papermill": {
     "duration": 0.019946,
     "end_time": "2020-03-15T12:34:25.823946",
     "exception": false,
     "start_time": "2020-03-15T12:34:25.804000",
=======
   "execution_count": null,
   "metadata": {
    "papermill": {
     "duration": null,
     "end_time": null,
     "exception": null,
     "start_time": null,
>>>>>>> e8e57c12b069d335f769e331514c59d27a165489
     "status": "completed"
    },
    "tags": []
   },
   "outputs": [],
   "source": [
    "\"\"\"dvc-cc-show\n",
    "args = parser.parse_args()\n",
    "\"\"\";"
   ]
  },
  {
   "cell_type": "code",
<<<<<<< HEAD
   "execution_count": 7,
   "metadata": {
    "papermill": {
     "duration": 0.018561,
     "end_time": "2020-03-15T12:34:25.856355",
     "exception": false,
     "start_time": "2020-03-15T12:34:25.837794",
=======
   "execution_count": null,
   "metadata": {
    "papermill": {
     "duration": null,
     "end_time": null,
     "exception": null,
     "start_time": null,
>>>>>>> e8e57c12b069d335f769e331514c59d27a165489
     "status": "completed"
    },
    "tags": []
   },
   "outputs": [],
   "source": [
    "#dvc-cc-hide\n",
    "args = parser.parse_args(\"--num-of-epochs 5 -b 16\".split())"
   ]
  },
  {
   "cell_type": "markdown",
   "metadata": {
    "papermill": {
<<<<<<< HEAD
     "duration": 0.013142,
     "end_time": "2020-03-15T12:34:25.883336",
     "exception": false,
     "start_time": "2020-03-15T12:34:25.870194",
=======
     "duration": null,
     "end_time": null,
     "exception": null,
     "start_time": null,
>>>>>>> e8e57c12b069d335f769e331514c59d27a165489
     "status": "completed"
    },
    "tags": []
   },
   "source": [
    "# Define the model"
   ]
  },
  {
   "cell_type": "code",
<<<<<<< HEAD
   "execution_count": 8,
   "metadata": {
    "papermill": {
     "duration": 0.021231,
     "end_time": "2020-03-15T12:34:25.917534",
     "exception": false,
     "start_time": "2020-03-15T12:34:25.896303",
=======
   "execution_count": null,
   "metadata": {
    "papermill": {
     "duration": null,
     "end_time": null,
     "exception": null,
     "start_time": null,
>>>>>>> e8e57c12b069d335f769e331514c59d27a165489
     "status": "completed"
    },
    "tags": []
   },
   "outputs": [],
   "source": [
    "# define the model\n",
    "padding = 'same'"
   ]
  },
  {
   "cell_type": "code",
<<<<<<< HEAD
   "execution_count": 9,
   "metadata": {
    "papermill": {
     "duration": 0.021507,
     "end_time": "2020-03-15T12:34:25.951945",
     "exception": false,
     "start_time": "2020-03-15T12:34:25.930438",
=======
   "execution_count": null,
   "metadata": {
    "papermill": {
     "duration": null,
     "end_time": null,
     "exception": null,
     "start_time": null,
>>>>>>> e8e57c12b069d335f769e331514c59d27a165489
     "status": "completed"
    },
    "tags": []
   },
   "outputs": [],
   "source": [
    "kernel2d = (args.kernel_width, args.kernel_width)"
   ]
  },
  {
   "cell_type": "code",
<<<<<<< HEAD
   "execution_count": 10,
   "metadata": {
    "papermill": {
     "duration": 0.62853,
     "end_time": "2020-03-15T12:34:26.593566",
     "exception": false,
     "start_time": "2020-03-15T12:34:25.965036",
     "status": "completed"
    },
    "tags": []
   },
   "outputs": [
    {
     "name": "stdout",
     "output_type": "stream",
     "text": [
      "Model: \"sequential\"\n",
      "_________________________________________________________________\n",
      "Layer (type)                 Output Shape              Param #   \n",
      "=================================================================\n",
      "conv2d (Conv2D)              (None, 86, 86, 20)        560       \n",
      "_________________________________________________________________\n",
      "activation (Activation)      (None, 86, 86, 20)        0         \n",
      "_________________________________________________________________\n",
      "dropout (Dropout)            (None, 86, 86, 20)        0         \n",
      "_________________________________________________________________\n",
      "conv2d_1 (Conv2D)            (None, 86, 86, 24)        4344      \n",
      "_________________________________________________________________\n",
      "activation_1 (Activation)    (None, 86, 86, 24)        0         \n",
      "_________________________________________________________________\n",
      "dropout_1 (Dropout)          (None, 86, 86, 24)        0         \n",
      "_________________________________________________________________\n",
      "conv2d_2 (Conv2D)            (None, 86, 86, 29)        6293      \n",
      "_________________________________________________________________\n",
      "activation_2 (Activation)    (None, 86, 86, 29)        0         \n",
      "_________________________________________________________________\n",
      "dropout_2 (Dropout)          (None, 86, 86, 29)        0         \n",
      "_________________________________________________________________\n",
      "conv2d_3 (Conv2D)            (None, 86, 86, 35)        9170      \n",
      "_________________________________________________________________\n",
      "activation_3 (Activation)    (None, 86, 86, 35)        0         \n",
      "_________________________________________________________________\n",
      "dropout_3 (Dropout)          (None, 86, 86, 35)        0         \n",
      "_________________________________________________________________\n",
      "conv2d_4 (Conv2D)            (None, 86, 86, 42)        13272     \n",
      "_________________________________________________________________\n",
      "activation_4 (Activation)    (None, 86, 86, 42)        0         \n",
      "_________________________________________________________________\n",
      "dropout_4 (Dropout)          (None, 86, 86, 42)        0         \n",
      "_________________________________________________________________\n",
      "global_average_pooling2d (Gl (None, 42)                0         \n",
      "_________________________________________________________________\n",
      "dropout_5 (Dropout)          (None, 42)                0         \n",
      "_________________________________________________________________\n",
      "flatten (Flatten)            (None, 42)                0         \n",
      "_________________________________________________________________\n",
      "dense (Dense)                (None, 2)                 86        \n",
      "_________________________________________________________________\n",
      "activation_5 (Activation)    (None, 2)                 0         \n",
      "=================================================================\n",
      "Total params: 33,725\n",
      "Trainable params: 33,725\n",
      "Non-trainable params: 0\n",
      "_________________________________________________________________\n"
     ]
    }
   ],
=======
   "execution_count": null,
   "metadata": {
    "papermill": {
     "duration": null,
     "end_time": null,
     "exception": null,
     "start_time": null,
     "status": "completed"
    },
    "tags": []
   },
   "outputs": [],
>>>>>>> e8e57c12b069d335f769e331514c59d27a165489
   "source": [
    "model = Sequential()\n",
    "for i in range(args.num_of_conv_layers):\n",
    "    kernels = args.average_kernels * (args.kernel_increasing_factor ** (i-(args.num_of_conv_layers/2.)))\n",
    "    kernels = int(kernels+0.5)\n",
    "    \n",
    "    if i == 0:\n",
    "        input_shape = list([96,96,3])\n",
    "        # use_cropping:\n",
    "        input_shape[0] -= 10\n",
    "        input_shape[1] -= 10 \n",
    "        \n",
    "        model.add(Conv2D(kernels, kernel2d, padding=padding,\n",
    "                 input_shape=input_shape))\n",
    "    else:\n",
    "        model.add(Conv2D(kernels, kernel2d, padding=padding))\n",
    "    model.add(Activation(args.activation_function))\n",
    "    if args.maxpool_after_n_layer > 0 and (i+1) % args.maxpool_after_n_layer == 0:\n",
    "        model.add(MaxPooling2D(pool_size=(2, 2)))\n",
    "        if args.dropout_factor_after_maxp > 0:\n",
    "            model.add(Dropout(args.dropout_factor_after_maxp))\n",
    "    elif args.dropout_factor_after_conv > 0:\n",
    "        model.add(Dropout(args.dropout_factor_after_conv))\n",
    "\n",
    "model.add(GlobalAveragePooling2D())\n",
    "if args.dropout_factor_after_maxp > 0:\n",
    "    model.add(Dropout(args.dropout_factor_after_maxp))\n",
    "\n",
    "\n",
    "model.add(Flatten())\n",
    "model.add(Dense(2))\n",
    "model.add(Activation('softmax'))\n",
    "\n",
    "optimizer = tf.keras.optimizers.Adam(args.learning_rate)\n",
    "model.compile(loss='categorical_crossentropy', optimizer=optimizer, metrics=['accuracy',tf.keras.metrics.AUC()])\n",
    "\n",
    "model.summary()"
   ]
  },
  {
   "cell_type": "markdown",
   "metadata": {
    "papermill": {
<<<<<<< HEAD
     "duration": 0.016947,
     "end_time": "2020-03-15T12:34:26.630468",
     "exception": false,
     "start_time": "2020-03-15T12:34:26.613521",
=======
     "duration": null,
     "end_time": null,
     "exception": null,
     "start_time": null,
>>>>>>> e8e57c12b069d335f769e331514c59d27a165489
     "status": "completed"
    },
    "tags": []
   },
   "source": [
    "# Define Data Loader"
   ]
  },
  {
   "cell_type": "code",
<<<<<<< HEAD
   "execution_count": 11,
   "metadata": {
    "papermill": {
     "duration": 0.033015,
     "end_time": "2020-03-15T12:34:26.677701",
     "exception": false,
     "start_time": "2020-03-15T12:34:26.644686",
=======
   "execution_count": null,
   "metadata": {
    "papermill": {
     "duration": null,
     "end_time": null,
     "exception": null,
     "start_time": null,
>>>>>>> e8e57c12b069d335f769e331514c59d27a165489
     "status": "completed"
    },
    "tags": []
   },
   "outputs": [],
   "source": [
    "def next_data_pcam(x_path,y_path,bz=args.batch_size):\n",
    "    x = h5py.File(x_path,'r', libver='latest',swmr=True)['x']\n",
    "    y = h5py.File(y_path,'r', libver='latest', swmr=True)['y']\n",
    "\n",
    "    datalen = len(x)\n",
    "    while True:\n",
    "        indizies = None\n",
    "        while indizies is None or len(indizies) == bz:\n",
    "            indizies = list(np.unique(sorted(np.random.randint(datalen,size=bz))))\n",
    "        \n",
    "        x_data = np.array(x[indizies])\n",
    "        \n",
    "        # normalize_input\n",
    "        x_data = x_data/256.0\n",
    "        \n",
    "        #use_cropping\n",
    "        r = np.random.randint(10)\n",
    "        r2 = np.random.randint(10)\n",
    "        x_data = x_data[:,r:-10+r,r2:-10+r2]\n",
    "        \n",
    "        # flip_input\n",
    "        if np.random.randint(2) == 1:\n",
    "            x_data = x_data[:,::-1]\n",
    "        if np.random.randint(2) == 1:\n",
    "            x_data = x_data[:,:,::-1]\n",
    "        \n",
    "        yield x_data, np.array([[1,0],[0,1]])[y[indizies][:,0,0,0]]"
   ]
  },
  {
   "cell_type": "markdown",
   "metadata": {
    "papermill": {
<<<<<<< HEAD
     "duration": 0.014308,
     "end_time": "2020-03-15T12:34:26.711227",
     "exception": false,
     "start_time": "2020-03-15T12:34:26.696919",
=======
     "duration": null,
     "end_time": null,
     "exception": null,
     "start_time": null,
>>>>>>> e8e57c12b069d335f769e331514c59d27a165489
     "status": "completed"
    },
    "tags": []
   },
   "source": [
    "# Train the model"
   ]
  },
  {
   "cell_type": "code",
<<<<<<< HEAD
   "execution_count": 12,
   "metadata": {
    "papermill": {
     "duration": 77.501932,
     "end_time": "2020-03-15T12:35:44.229799",
     "exception": false,
     "start_time": "2020-03-15T12:34:26.727867",
     "status": "completed"
    },
    "tags": []
   },
   "outputs": [
    {
     "name": "stderr",
     "output_type": "stream",
     "text": [
      "WARNING: Logging before flag parsing goes to stderr.\n",
      "W0315 13:34:26.764591 140286155331392 deprecation.py:323] From <ipython-input-12-5d8a99539cb9>:14: Model.fit_generator (from tensorflow.python.keras.engine.training) is deprecated and will be removed in a future version.\n",
      "Instructions for updating:\n",
      "Please use Model.fit, which supports generators.\n"
     ]
    },
    {
     "name": "stderr",
     "output_type": "stream",
     "text": [
      "W0315 13:34:27.212846 140286155331392 data_adapter.py:1091] sample_weight modes were coerced from\n",
      "  ...\n",
      "    to  \n",
      "  ['...']\n"
     ]
    },
    {
     "name": "stderr",
     "output_type": "stream",
     "text": [
      "W0315 13:34:27.486815 140286155331392 data_adapter.py:1091] sample_weight modes were coerced from\n",
      "  ...\n",
      "    to  \n",
      "  ['...']\n"
     ]
    },
    {
     "name": "stdout",
     "output_type": "stream",
     "text": [
      "Train for 30 steps, validate for 10 steps\n",
      "Epoch 1/5\n"
     ]
    },
    {
     "name": "stdout",
     "output_type": "stream",
     "text": [
      "30/30 - 19s - loss: 0.6942 - accuracy: 0.5000 - auc: 0.4831 - val_loss: 0.6920 - val_accuracy: 0.5467 - val_auc: 0.6440\n"
     ]
    },
    {
     "name": "stdout",
     "output_type": "stream",
     "text": [
      "Epoch 2/5\n"
     ]
    },
    {
     "name": "stdout",
     "output_type": "stream",
     "text": [
      "30/30 - 14s - loss: 0.6937 - accuracy: 0.5089 - auc: 0.4930 - val_loss: 0.6919 - val_accuracy: 0.4867 - val_auc: 0.5308\n"
     ]
    },
    {
     "name": "stdout",
     "output_type": "stream",
     "text": [
      "Epoch 3/5\n"
     ]
    },
    {
     "name": "stdout",
     "output_type": "stream",
     "text": [
      "30/30 - 14s - loss: 0.6914 - accuracy: 0.5400 - auc: 0.5432 - val_loss: 0.6852 - val_accuracy: 0.5267 - val_auc: 0.6489\n"
     ]
    },
    {
     "name": "stdout",
     "output_type": "stream",
     "text": [
      "Epoch 4/5\n"
     ]
    },
    {
     "name": "stdout",
     "output_type": "stream",
     "text": [
      "30/30 - 15s - loss: 0.6930 - accuracy: 0.5222 - auc: 0.5110 - val_loss: 0.6895 - val_accuracy: 0.6333 - val_auc: 0.6994\n"
     ]
    },
    {
     "name": "stdout",
     "output_type": "stream",
     "text": [
      "Epoch 5/5\n"
     ]
    },
    {
     "name": "stdout",
     "output_type": "stream",
     "text": [
      "30/30 - 14s - loss: 0.6877 - accuracy: 0.5511 - auc: 0.5827 - val_loss: 0.6776 - val_accuracy: 0.5400 - val_auc: 0.6136\n"
     ]
    }
   ],
=======
   "execution_count": null,
   "metadata": {
    "papermill": {
     "duration": null,
     "end_time": null,
     "exception": null,
     "start_time": null,
     "status": "completed"
    },
    "tags": []
   },
   "outputs": [],
>>>>>>> e8e57c12b069d335f769e331514c59d27a165489
   "source": [
    "tensorboard = tf.keras.callbacks.TensorBoard('tensorboard')\n",
    "history = model.fit_generator(next_data_pcam(\n",
    "                             'data/camelyonpatch_level_2_split_train_x.h5',\n",
    "                             'data2/camelyonpatch_level_2_split_train_y.h5'),\n",
    "                        validation_steps=10,\n",
    "                        steps_per_epoch=30,\n",
    "                        epochs=args.num_of_epochs,\n",
    "                        validation_data=next_data_pcam(\n",
    "                             'data3/camelyonpatch_level_2_split_valid_x.h5',\n",
    "                             'data4/camelyonpatch_level_2_split_valid_y.h5'),\n",
    "                        workers=1,\n",
    "                        verbose=2,\n",
    "                        use_multiprocessing=False,\n",
    "                        callbacks=[tensorboard])\n",
    "\n",
    "model.save_weights('tf_model.h5')\n"
   ]
  },
  {
   "cell_type": "markdown",
   "metadata": {
    "papermill": {
<<<<<<< HEAD
     "duration": 0.017444,
     "end_time": "2020-03-15T12:35:44.275835",
     "exception": false,
     "start_time": "2020-03-15T12:35:44.258391",
=======
     "duration": null,
     "end_time": null,
     "exception": null,
     "start_time": null,
>>>>>>> e8e57c12b069d335f769e331514c59d27a165489
     "status": "completed"
    },
    "tags": []
   },
   "source": [
    "# Save output files"
   ]
  },
  {
   "cell_type": "code",
<<<<<<< HEAD
   "execution_count": 13,
   "metadata": {
    "papermill": {
     "duration": 0.027828,
     "end_time": "2020-03-15T12:35:44.320969",
     "exception": false,
     "start_time": "2020-03-15T12:35:44.293141",
=======
   "execution_count": null,
   "metadata": {
    "papermill": {
     "duration": null,
     "end_time": null,
     "exception": null,
     "start_time": null,
>>>>>>> e8e57c12b069d335f769e331514c59d27a165489
     "status": "completed"
    },
    "tags": []
   },
   "outputs": [],
   "source": [
    "if not os.path.exists('outputs'):\n",
    "    os.mkdir('outputs')"
   ]
  },
  {
   "cell_type": "code",
<<<<<<< HEAD
   "execution_count": 14,
   "metadata": {
    "papermill": {
     "duration": 0.030103,
     "end_time": "2020-03-15T12:35:44.371278",
     "exception": false,
     "start_time": "2020-03-15T12:35:44.341175",
=======
   "execution_count": null,
   "metadata": {
    "papermill": {
     "duration": null,
     "end_time": null,
     "exception": null,
     "start_time": null,
>>>>>>> e8e57c12b069d335f769e331514c59d27a165489
     "status": "completed"
    },
    "tags": []
   },
   "outputs": [],
   "source": [
    "with open('outputs/all-history.json','w') as f:\n",
    "    json.dump(str(history.history),f)\n",
    "\n",
    "params = {}\n",
    "for p in history.history:\n",
    "    if p.find('loss') >= 0:\n",
    "        params[p] = np.min(history.history[p])\n",
    "    else:\n",
    "        params[p] = np.max(history.history[p])\n",
    "        \n",
    "with open('outputs/history-summary.json','w') as f:\n",
    "    json.dump(str(params),f)"
   ]
  },
  {
   "cell_type": "code",
   "execution_count": null,
   "metadata": {
    "papermill": {
<<<<<<< HEAD
     "duration": 0.016805,
     "end_time": "2020-03-15T12:35:44.408577",
     "exception": false,
     "start_time": "2020-03-15T12:35:44.391772",
=======
     "duration": null,
     "end_time": null,
     "exception": null,
     "start_time": null,
>>>>>>> e8e57c12b069d335f769e331514c59d27a165489
     "status": "completed"
    },
    "tags": []
   },
   "outputs": [],
   "source": []
  },
  {
   "cell_type": "code",
   "execution_count": null,
   "metadata": {
    "papermill": {
<<<<<<< HEAD
     "duration": 0.026769,
     "end_time": "2020-03-15T12:35:44.452473",
     "exception": false,
     "start_time": "2020-03-15T12:35:44.425704",
=======
     "duration": null,
     "end_time": null,
     "exception": null,
     "start_time": null,
>>>>>>> e8e57c12b069d335f769e331514c59d27a165489
     "status": "completed"
    },
    "tags": []
   },
   "outputs": [],
   "source": []
  },
  {
   "cell_type": "code",
   "execution_count": null,
   "metadata": {
    "papermill": {
<<<<<<< HEAD
     "duration": 0.017069,
     "end_time": "2020-03-15T12:35:44.487481",
     "exception": false,
     "start_time": "2020-03-15T12:35:44.470412",
=======
     "duration": null,
     "end_time": null,
     "exception": null,
     "start_time": null,
>>>>>>> e8e57c12b069d335f769e331514c59d27a165489
     "status": "completed"
    },
    "tags": []
   },
   "outputs": [],
   "source": []
  },
  {
   "cell_type": "code",
   "execution_count": null,
   "metadata": {
    "papermill": {
<<<<<<< HEAD
     "duration": 0.017008,
     "end_time": "2020-03-15T12:35:44.522159",
     "exception": false,
     "start_time": "2020-03-15T12:35:44.505151",
=======
     "duration": null,
     "end_time": null,
     "exception": null,
     "start_time": null,
>>>>>>> e8e57c12b069d335f769e331514c59d27a165489
     "status": "completed"
    },
    "tags": []
   },
   "outputs": [],
   "source": []
  },
  {
   "cell_type": "code",
   "execution_count": null,
   "metadata": {
    "papermill": {
<<<<<<< HEAD
     "duration": 0.016868,
     "end_time": "2020-03-15T12:35:44.556163",
     "exception": false,
     "start_time": "2020-03-15T12:35:44.539295",
=======
     "duration": null,
     "end_time": null,
     "exception": null,
     "start_time": null,
>>>>>>> e8e57c12b069d335f769e331514c59d27a165489
     "status": "completed"
    },
    "tags": []
   },
   "outputs": [],
   "source": []
  },
  {
   "cell_type": "code",
   "execution_count": null,
   "metadata": {
    "papermill": {
<<<<<<< HEAD
     "duration": 0.016897,
     "end_time": "2020-03-15T12:35:44.590065",
     "exception": false,
     "start_time": "2020-03-15T12:35:44.573168",
=======
     "duration": null,
     "end_time": null,
     "exception": null,
     "start_time": null,
>>>>>>> e8e57c12b069d335f769e331514c59d27a165489
     "status": "completed"
    },
    "tags": []
   },
   "outputs": [],
   "source": []
  },
  {
   "cell_type": "code",
   "execution_count": null,
   "metadata": {
    "papermill": {
<<<<<<< HEAD
     "duration": 0.01736,
     "end_time": "2020-03-15T12:35:44.624506",
     "exception": false,
     "start_time": "2020-03-15T12:35:44.607146",
=======
     "duration": null,
     "end_time": null,
     "exception": null,
     "start_time": null,
>>>>>>> e8e57c12b069d335f769e331514c59d27a165489
     "status": "completed"
    },
    "tags": []
   },
   "outputs": [],
   "source": []
  },
  {
   "cell_type": "code",
   "execution_count": null,
   "metadata": {
    "papermill": {
<<<<<<< HEAD
     "duration": 0.016741,
     "end_time": "2020-03-15T12:35:44.658407",
     "exception": false,
     "start_time": "2020-03-15T12:35:44.641666",
=======
     "duration": null,
     "end_time": null,
     "exception": null,
     "start_time": null,
>>>>>>> e8e57c12b069d335f769e331514c59d27a165489
     "status": "completed"
    },
    "tags": []
   },
   "outputs": [],
   "source": []
  },
  {
   "cell_type": "code",
   "execution_count": null,
   "metadata": {
    "papermill": {
<<<<<<< HEAD
     "duration": 0.016748,
     "end_time": "2020-03-15T12:35:44.692026",
     "exception": false,
     "start_time": "2020-03-15T12:35:44.675278",
=======
     "duration": null,
     "end_time": null,
     "exception": null,
     "start_time": null,
>>>>>>> e8e57c12b069d335f769e331514c59d27a165489
     "status": "completed"
    },
    "tags": []
   },
   "outputs": [],
   "source": []
  },
  {
   "cell_type": "code",
   "execution_count": null,
   "metadata": {
    "papermill": {
<<<<<<< HEAD
     "duration": 0.017038,
     "end_time": "2020-03-15T12:35:44.725929",
     "exception": false,
     "start_time": "2020-03-15T12:35:44.708891",
=======
     "duration": null,
     "end_time": null,
     "exception": null,
     "start_time": null,
>>>>>>> e8e57c12b069d335f769e331514c59d27a165489
     "status": "completed"
    },
    "tags": []
   },
   "outputs": [],
   "source": []
  },
  {
   "cell_type": "code",
   "execution_count": null,
   "metadata": {
    "papermill": {
<<<<<<< HEAD
     "duration": 0.016139,
     "end_time": "2020-03-15T12:35:44.775306",
     "exception": false,
     "start_time": "2020-03-15T12:35:44.759167",
=======
     "duration": null,
     "end_time": null,
     "exception": null,
     "start_time": null,
>>>>>>> e8e57c12b069d335f769e331514c59d27a165489
     "status": "completed"
    },
    "tags": []
   },
   "outputs": [],
   "source": []
  },
  {
   "cell_type": "code",
   "execution_count": null,
   "metadata": {
    "papermill": {
<<<<<<< HEAD
     "duration": 0.015034,
     "end_time": "2020-03-15T12:35:44.805659",
     "exception": false,
     "start_time": "2020-03-15T12:35:44.790625",
=======
     "duration": null,
     "end_time": null,
     "exception": null,
     "start_time": null,
>>>>>>> e8e57c12b069d335f769e331514c59d27a165489
     "status": "completed"
    },
    "tags": []
   },
   "outputs": [],
   "source": []
  },
  {
   "cell_type": "code",
   "execution_count": null,
   "metadata": {
    "papermill": {
<<<<<<< HEAD
     "duration": 0.014758,
     "end_time": "2020-03-15T12:35:44.835452",
     "exception": false,
     "start_time": "2020-03-15T12:35:44.820694",
=======
     "duration": null,
     "end_time": null,
     "exception": null,
     "start_time": null,
>>>>>>> e8e57c12b069d335f769e331514c59d27a165489
     "status": "completed"
    },
    "tags": []
   },
   "outputs": [],
   "source": []
  },
  {
   "cell_type": "code",
   "execution_count": null,
   "metadata": {
    "papermill": {
<<<<<<< HEAD
     "duration": 0.014758,
     "end_time": "2020-03-15T12:35:44.864979",
     "exception": false,
     "start_time": "2020-03-15T12:35:44.850221",
=======
     "duration": null,
     "end_time": null,
     "exception": null,
     "start_time": null,
>>>>>>> e8e57c12b069d335f769e331514c59d27a165489
     "status": "completed"
    },
    "tags": []
   },
   "outputs": [],
   "source": []
  },
  {
   "cell_type": "code",
   "execution_count": null,
   "metadata": {
    "papermill": {
<<<<<<< HEAD
     "duration": 0.014747,
     "end_time": "2020-03-15T12:35:44.894554",
     "exception": false,
     "start_time": "2020-03-15T12:35:44.879807",
=======
     "duration": null,
     "end_time": null,
     "exception": null,
     "start_time": null,
>>>>>>> e8e57c12b069d335f769e331514c59d27a165489
     "status": "completed"
    },
    "tags": []
   },
   "outputs": [],
   "source": []
  },
  {
   "cell_type": "code",
   "execution_count": null,
   "metadata": {
    "papermill": {
<<<<<<< HEAD
     "duration": 0.014747,
     "end_time": "2020-03-15T12:35:44.924183",
     "exception": false,
     "start_time": "2020-03-15T12:35:44.909436",
=======
     "duration": null,
     "end_time": null,
     "exception": null,
     "start_time": null,
>>>>>>> e8e57c12b069d335f769e331514c59d27a165489
     "status": "completed"
    },
    "tags": []
   },
   "outputs": [],
   "source": []
  },
  {
   "cell_type": "code",
   "execution_count": null,
   "metadata": {
    "papermill": {
<<<<<<< HEAD
     "duration": 0.014747,
     "end_time": "2020-03-15T12:35:44.953905",
     "exception": false,
     "start_time": "2020-03-15T12:35:44.939158",
=======
     "duration": null,
     "end_time": null,
     "exception": null,
     "start_time": null,
>>>>>>> e8e57c12b069d335f769e331514c59d27a165489
     "status": "completed"
    },
    "tags": []
   },
   "outputs": [],
   "source": []
  },
  {
   "cell_type": "code",
   "execution_count": null,
   "metadata": {
    "papermill": {
<<<<<<< HEAD
     "duration": 0.014723,
     "end_time": "2020-03-15T12:35:44.983586",
     "exception": false,
     "start_time": "2020-03-15T12:35:44.968863",
=======
     "duration": null,
     "end_time": null,
     "exception": null,
     "start_time": null,
>>>>>>> e8e57c12b069d335f769e331514c59d27a165489
     "status": "completed"
    },
    "tags": []
   },
   "outputs": [],
   "source": []
  }
 ],
 "metadata": {
  "kernelspec": {
   "display_name": "Python 3",
   "language": "python",
   "name": "python3"
  },
  "language_info": {
   "codemirror_mode": {
    "name": "ipython",
    "version": 3
   },
   "file_extension": ".py",
   "mimetype": "text/x-python",
   "name": "python",
   "nbconvert_exporter": "python",
   "pygments_lexer": "ipython3",
   "version": "3.7.3"
  },
  "papermill": {
<<<<<<< HEAD
   "duration": 83.163093,
   "end_time": "2020-03-15T12:35:45.792411",
=======
   "duration": 2.082645,
   "end_time": "2020-03-15T12:31:15.144823",
>>>>>>> e8e57c12b069d335f769e331514c59d27a165489
   "environment_variables": {},
   "exception": null,
   "input_path": "source/train.ipynb",
   "output_path": "source/trained.ipynb",
   "parameters": {},
<<<<<<< HEAD
   "start_time": "2020-03-15T12:34:22.629318",
=======
   "start_time": "2020-03-15T12:31:13.062178",
>>>>>>> e8e57c12b069d335f769e331514c59d27a165489
   "version": "2.0.0"
  }
 },
 "nbformat": 4,
 "nbformat_minor": 2
}