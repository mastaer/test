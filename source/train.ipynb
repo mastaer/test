{
 "cells": [
  {
   "cell_type": "markdown",
   "metadata": {},
   "source": [
    "# Define Imports"
   ]
  },
  {
   "cell_type": "code",
   "execution_count": 9,
   "metadata": {},
   "outputs": [],
   "source": [
    "import json\n",
    "import os\n",
    "import tensorflow as tf\n",
    "import numpy as np\n",
    "import h5py\n",
    "from tensorflow.keras.preprocessing.image import ImageDataGenerator\n",
    "from tensorflow.keras.models import Sequential\n",
    "from tensorflow.keras.layers import Dense, Dropout, Activation, Flatten, Conv2D, MaxPooling2D\n",
    "from tensorflow.keras.layers import GlobalAveragePooling2D\n",
    "import argparse"
   ]
  },
  {
   "cell_type": "markdown",
   "metadata": {},
   "source": [
    "# Change dir in jupyter notebook"
   ]
  },
  {
   "cell_type": "code",
   "execution_count": 10,
   "metadata": {},
   "outputs": [],
   "source": [
    "#dvc-cc-hide\n",
    "if os.getcwd().endswith('source'):\n",
    "    os.chdir('..')"
   ]
  },
  {
   "cell_type": "markdown",
   "metadata": {},
   "source": [
    "# Define Argparser"
   ]
  },
  {
   "cell_type": "code",
   "execution_count": 11,
   "metadata": {},
   "outputs": [
    {
     "name": "stdout",
     "output_type": "stream",
     "text": [
      "\n",
      "Tensorflow runs on the GPU:  []\n",
      "\n"
     ]
    }
   ],
   "source": [
    "print()\n",
    "print('Tensorflow runs on the GPU: ', tf.config.list_physical_devices('GPU'))\n",
    "print()\n",
    "parser = argparse.ArgumentParser();"
   ]
  },
  {
   "cell_type": "code",
   "execution_count": 12,
   "metadata": {},
   "outputs": [],
   "source": [
    "# define the training\n",
    "parser.add_argument('-lr', '--learning-rate', type=float, help='', default=0.0001)\n",
    "parser.add_argument('-b','--batch-size', type=int, help='', default=64)\n",
    "parser.add_argument('--num-of-epochs', type=int, help='', default=1000);"
   ]
  },
  {
   "cell_type": "code",
   "execution_count": 13,
   "metadata": {},
   "outputs": [],
   "source": [
    "# define the model structure\n",
    "parser.add_argument('--activation-function', type=str, help='', default='relu')\n",
    "parser.add_argument('--kernel-width', type=int, help='', default=3)\n",
    "parser.add_argument('--average-kernels', type=int, help='', default=32)\n",
    "parser.add_argument('--num-of-conv-layers', type=int, help='', default=5)\n",
    "parser.add_argument('--kernel-increasing-factor', type=float, help='', default=1.2)\n",
    "parser.add_argument('--maxpool-after-n-layer', type=int, help='', default=0)\n",
    "parser.add_argument('--dropout-factor-after-conv', type=float, help='', default=0.1)\n",
    "parser.add_argument('--dropout-factor-after-maxp', type=float, help='', default=0.25);"
   ]
  },
  {
   "cell_type": "code",
   "execution_count": 14,
   "metadata": {},
   "outputs": [],
   "source": [
    "\"\"\"dvc-cc-show\n",
    "args = parser.parse_args()\n",
    "\"\"\";"
   ]
  },
  {
   "cell_type": "code",
   "execution_count": 15,
   "metadata": {},
   "outputs": [],
   "source": [
    "#dvc-cc-hide\n",
    "args = parser.parse_args(\"--num-of-epochs 5 -b 16\".split())"
   ]
  },
  {
   "cell_type": "markdown",
   "metadata": {},
   "source": [
    "# Define the model"
   ]
  },
  {
   "cell_type": "code",
   "execution_count": 16,
   "metadata": {},
   "outputs": [],
   "source": [
    "# define the model\n",
    "padding = 'same'"
   ]
  },
  {
   "cell_type": "code",
   "execution_count": 17,
   "metadata": {},
   "outputs": [],
   "source": [
    "kernel2d = (args.kernel_width, args.kernel_width)"
   ]
  },
  {
   "cell_type": "code",
   "execution_count": 18,
   "metadata": {},
   "outputs": [
    {
     "name": "stdout",
     "output_type": "stream",
     "text": [
      "Model: \"sequential\"\n",
      "_________________________________________________________________\n",
      "Layer (type)                 Output Shape              Param #   \n",
      "=================================================================\n",
      "conv2d (Conv2D)              (None, 86, 86, 20)        560       \n",
      "_________________________________________________________________\n",
      "activation (Activation)      (None, 86, 86, 20)        0         \n",
      "_________________________________________________________________\n",
      "dropout (Dropout)            (None, 86, 86, 20)        0         \n",
      "_________________________________________________________________\n",
      "conv2d_1 (Conv2D)            (None, 86, 86, 24)        4344      \n",
      "_________________________________________________________________\n",
      "activation_1 (Activation)    (None, 86, 86, 24)        0         \n",
      "_________________________________________________________________\n",
      "dropout_1 (Dropout)          (None, 86, 86, 24)        0         \n",
      "_________________________________________________________________\n",
      "conv2d_2 (Conv2D)            (None, 86, 86, 29)        6293      \n",
      "_________________________________________________________________\n",
      "activation_2 (Activation)    (None, 86, 86, 29)        0         \n",
      "_________________________________________________________________\n",
      "dropout_2 (Dropout)          (None, 86, 86, 29)        0         \n",
      "_________________________________________________________________\n",
      "conv2d_3 (Conv2D)            (None, 86, 86, 35)        9170      \n",
      "_________________________________________________________________\n",
      "activation_3 (Activation)    (None, 86, 86, 35)        0         \n",
      "_________________________________________________________________\n",
      "dropout_3 (Dropout)          (None, 86, 86, 35)        0         \n",
      "_________________________________________________________________\n",
      "conv2d_4 (Conv2D)            (None, 86, 86, 42)        13272     \n",
      "_________________________________________________________________\n",
      "activation_4 (Activation)    (None, 86, 86, 42)        0         \n",
      "_________________________________________________________________\n",
      "dropout_4 (Dropout)          (None, 86, 86, 42)        0         \n",
      "_________________________________________________________________\n",
      "global_average_pooling2d (Gl (None, 42)                0         \n",
      "_________________________________________________________________\n",
      "dropout_5 (Dropout)          (None, 42)                0         \n",
      "_________________________________________________________________\n",
      "flatten (Flatten)            (None, 42)                0         \n",
      "_________________________________________________________________\n",
      "dense (Dense)                (None, 2)                 86        \n",
      "_________________________________________________________________\n",
      "activation_5 (Activation)    (None, 2)                 0         \n",
      "=================================================================\n",
      "Total params: 33,725\n",
      "Trainable params: 33,725\n",
      "Non-trainable params: 0\n",
      "_________________________________________________________________\n"
     ]
    }
   ],
   "source": [
    "model = Sequential()\n",
    "for i in range(args.num_of_conv_layers):\n",
    "    kernels = args.average_kernels * (args.kernel_increasing_factor ** (i-(args.num_of_conv_layers/2.)))\n",
    "    kernels = int(kernels+0.5)\n",
    "    \n",
    "    if i == 0:\n",
    "        input_shape = list([96,96,3])\n",
    "        # use_cropping:\n",
    "        input_shape[0] -= 10\n",
    "        input_shape[1] -= 10 \n",
    "        \n",
    "        model.add(Conv2D(kernels, kernel2d, padding=padding,\n",
    "                 input_shape=input_shape))\n",
    "    else:\n",
    "        model.add(Conv2D(kernels, kernel2d, padding=padding))\n",
    "    model.add(Activation(args.activation_function))\n",
    "    if args.maxpool_after_n_layer > 0 and (i+1) % args.maxpool_after_n_layer == 0:\n",
    "        model.add(MaxPooling2D(pool_size=(2, 2)))\n",
    "        if args.dropout_factor_after_maxp > 0:\n",
    "            model.add(Dropout(args.dropout_factor_after_maxp))\n",
    "    elif args.dropout_factor_after_conv > 0:\n",
    "        model.add(Dropout(args.dropout_factor_after_conv))\n",
    "\n",
    "model.add(GlobalAveragePooling2D())\n",
    "if args.dropout_factor_after_maxp > 0:\n",
    "    model.add(Dropout(args.dropout_factor_after_maxp))\n",
    "\n",
    "\n",
    "model.add(Flatten())\n",
    "model.add(Dense(2))\n",
    "model.add(Activation('softmax'))\n",
    "\n",
    "optimizer = tf.keras.optimizers.Adam(args.learning_rate)\n",
    "model.compile(loss='categorical_crossentropy', optimizer=optimizer, metrics=['accuracy',tf.keras.metrics.AUC()])\n",
    "\n",
    "model.summary()"
   ]
  },
  {
   "cell_type": "markdown",
   "metadata": {},
   "source": [
    "# Define Data Loader"
   ]
  },
  {
   "cell_type": "code",
   "execution_count": 19,
   "metadata": {},
   "outputs": [],
   "source": [
    "def next_data_pcam(x_path,y_path,bz=args.batch_size):\n",
    "    x = h5py.File(x_path,'r', libver='latest',swmr=True)['x']\n",
    "    y = h5py.File(y_path,'r', libver='latest', swmr=True)['y']\n",
    "\n",
    "    datalen = len(x)\n",
    "    while True:\n",
    "        indizies = None\n",
    "        while indizies is None or len(indizies) == bz:\n",
    "            indizies = list(np.unique(sorted(np.random.randint(datalen,size=bz))))\n",
    "        \n",
    "        x_data = np.array(x[indizies])\n",
    "        \n",
    "        # normalize_input\n",
    "        x_data = x_data/256.0\n",
    "        \n",
    "        #use_cropping\n",
    "        r = np.random.randint(10)\n",
    "        r2 = np.random.randint(10)\n",
    "        x_data = x_data[:,r:-10+r,r2:-10+r2]\n",
    "        \n",
    "        # flip_input\n",
    "        if np.random.randint(2) == 1:\n",
    "            x_data = x_data[:,::-1]\n",
    "        if np.random.randint(2) == 1:\n",
    "            x_data = x_data[:,:,::-1]\n",
    "        \n",
    "        yield x_data, np.array([[1,0],[0,1]])[y[indizies][:,0,0,0]]"
   ]
  },
  {
   "cell_type": "markdown",
   "metadata": {},
   "source": [
    "# Train the model"
   ]
  },
  {
   "cell_type": "code",
   "execution_count": 20,
   "metadata": {},
   "outputs": [
    {
     "name": "stderr",
     "output_type": "stream",
     "text": [
      "WARNING: Logging before flag parsing goes to stderr.\n",
      "W0315 13:48:58.825515 140515637122880 deprecation.py:323] From <ipython-input-20-5d8a99539cb9>:14: Model.fit_generator (from tensorflow.python.keras.engine.training) is deprecated and will be removed in a future version.\n",
      "Instructions for updating:\n",
      "Please use Model.fit, which supports generators.\n",
      "W0315 13:48:59.316424 140515637122880 data_adapter.py:1091] sample_weight modes were coerced from\n",
      "  ...\n",
      "    to  \n",
      "  ['...']\n",
      "W0315 13:48:59.458796 140515637122880 data_adapter.py:1091] sample_weight modes were coerced from\n",
      "  ...\n",
      "    to  \n",
      "  ['...']\n"
     ]
    },
    {
     "name": "stdout",
     "output_type": "stream",
     "text": [
      "Train for 30 steps, validate for 10 steps\n",
      "Epoch 1/5\n",
      "30/30 - 16s - loss: 0.6952 - accuracy: 0.4756 - auc: 0.4752 - val_loss: 0.6932 - val_accuracy: 0.5400 - val_auc: 0.4893\n",
      "Epoch 2/5\n",
      "30/30 - 12s - loss: 0.6913 - accuracy: 0.5244 - auc: 0.5418 - val_loss: 0.6907 - val_accuracy: 0.4467 - val_auc: 0.5711\n",
      "Epoch 3/5\n",
      "30/30 - 12s - loss: 0.6907 - accuracy: 0.5089 - auc: 0.5323 - val_loss: 0.6896 - val_accuracy: 0.4933 - val_auc: 0.6540\n",
      "Epoch 4/5\n",
      "30/30 - 13s - loss: 0.6895 - accuracy: 0.5667 - auc: 0.5773 - val_loss: 0.6867 - val_accuracy: 0.5200 - val_auc: 0.6258\n",
      "Epoch 5/5\n",
      "30/30 - 13s - loss: 0.6863 - accuracy: 0.5378 - auc: 0.5606 - val_loss: 0.6800 - val_accuracy: 0.7000 - val_auc: 0.7514\n"
     ]
    }
   ],
   "source": [
    "tensorboard = tf.keras.callbacks.TensorBoard('tensorboard')\n",
    "history = model.fit_generator(next_data_pcam(\n",
    "                             'data/camelyonpatch_level_2_split_train_x.h5',\n",
    "                             'data2/camelyonpatch_level_2_split_train_y.h5'),\n",
    "                        validation_steps=10,\n",
    "                        steps_per_epoch=30,\n",
    "                        epochs=args.num_of_epochs,\n",
    "                        validation_data=next_data_pcam(\n",
    "                             'data3/camelyonpatch_level_2_split_valid_x.h5',\n",
    "                             'data4/camelyonpatch_level_2_split_valid_y.h5'),\n",
    "                        workers=1,\n",
    "                        verbose=2,\n",
    "                        use_multiprocessing=False,\n",
    "                        callbacks=[tensorboard])\n",
    "\n",
    "model.save_weights('tf_model.h5')\n"
   ]
  },
  {
   "cell_type": "markdown",
   "metadata": {},
   "source": [
    "# Save output files"
   ]
  },
  {
   "cell_type": "code",
   "execution_count": 21,
   "metadata": {},
   "outputs": [],
   "source": [
    "if not os.path.exists('outputs'):\n",
    "    os.mkdir('outputs')"
   ]
  },
  {
   "cell_type": "code",
   "execution_count": 22,
   "metadata": {},
   "outputs": [],
   "source": [
    "with open('outputs/all-history.json','w') as f:\n",
    "    json.dump(str(history.history),f)\n",
    "\n",
    "params = {}\n",
    "for p in history.history:\n",
    "    if p.find('loss') >= 0:\n",
    "        params[p] = np.min(history.history[p])\n",
    "    else:\n",
    "        params[p] = np.max(history.history[p])\n",
    "        \n",
    "with open('outputs/history-summary.json','w') as f:\n",
    "    json.dump(str(params),f)"
   ]
  },
  {
   "cell_type": "code",
   "execution_count": 23,
   "metadata": {},
   "outputs": [],
   "source": [
    "# RANDOM STOFF"
   ]
  },
  {
   "cell_type": "code",
   "execution_count": 24,
   "metadata": {},
   "outputs": [
    {
     "data": {
      "text/plain": [
       "<matplotlib.collections.PathCollection at 0x7fcb6005e550>"
      ]
     },
     "execution_count": 24,
     "metadata": {},
     "output_type": "execute_result"
    },
    {
     "data": {
      "image/png": "[encoded data removed]",
      "text/plain": [
       "<Figure size 432x288 with 1 Axes>"
      ]
     },
     "metadata": {
      "needs_background": "light"
     },
     "output_type": "display_data"
    }
   ],
   "source": [
    "import matplotlib.pyplot as plt\n",
    "loss = history.history['loss']\n",
    "plt.plot(range(len(loss)), loss)"
   ]
  },
  {
   "cell_type": "code",
   "execution_count": null,
   "metadata": {},
   "outputs": [],
   "source": []
  },
  {
   "cell_type": "code",
   "execution_count": null,
   "metadata": {},
   "outputs": [],
   "source": []
  },
  {
   "cell_type": "code",
   "execution_count": null,
   "metadata": {},
   "outputs": [],
   "source": []
  },
  {
   "cell_type": "code",
   "execution_count": null,
   "metadata": {},
   "outputs": [],
   "source": []
  },
  {
   "cell_type": "code",
   "execution_count": 31,
   "metadata": {},
   "outputs": [
    {
     "data": {
      "text/plain": [
       "[<matplotlib.lines.Line2D at 0x7fcb302c8cc0>]"
      ]
     },
     "execution_count": 31,
     "metadata": {},
     "output_type": "execute_result"
    },
    {
     "data": {
      "image/png": "[encoded data removed]",
      "text/plain": [
       "<Figure size 432x288 with 1 Axes>"
      ]
     },
     "metadata": {
      "needs_background": "light"
     },
     "output_type": "display_data"
    }
   ],
   "source": []
  },
  {
   "cell_type": "code",
   "execution_count": null,
   "metadata": {},
   "outputs": [],
   "source": []
  },
  {
   "cell_type": "code",
   "execution_count": null,
   "metadata": {},
   "outputs": [],
   "source": []
  },
  {
   "cell_type": "code",
   "execution_count": null,
   "metadata": {},
   "outputs": [],
   "source": []
  },
  {
   "cell_type": "code",
   "execution_count": null,
   "metadata": {},
   "outputs": [],
   "source": []
  },
  {
   "cell_type": "code",
   "execution_count": null,
   "metadata": {},
   "outputs": [],
   "source": []
  },
  {
   "cell_type": "code",
   "execution_count": null,
   "metadata": {},
   "outputs": [],
   "source": []
  },
  {
   "cell_type": "code",
   "execution_count": null,
   "metadata": {},
   "outputs": [],
   "source": []
  },
  {
   "cell_type": "code",
   "execution_count": null,
   "metadata": {},
   "outputs": [],
   "source": []
  },
  {
   "cell_type": "code",
   "execution_count": null,
   "metadata": {},
   "outputs": [],
   "source": []
  },
  {
   "cell_type": "code",
   "execution_count": null,
   "metadata": {},
   "outputs": [],
   "source": []
  },
  {
   "cell_type": "code",
   "execution_count": null,
   "metadata": {},
   "outputs": [],
   "source": []
  }
 ],
 "metadata": {
  "kernelspec": {
   "display_name": "Python 3",
   "language": "python",
   "name": "python3"
  },
  "language_info": {
   "codemirror_mode": {
    "name": "ipython",
    "version": 3
   },
   "file_extension": ".py",
   "mimetype": "text/x-python",
   "name": "python",
   "nbconvert_exporter": "python",
   "pygments_lexer": "ipython3",
   "version": "3.7.3"
  }
 },
 "nbformat": 4,
 "nbformat_minor": 2
}
